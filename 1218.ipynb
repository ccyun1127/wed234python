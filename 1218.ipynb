{
 "cells": [
  {
   "cell_type": "markdown",
   "metadata": {},
   "source": [
    "# 找一個好的編輯器\n",
    "* visual studio code\n",
    "* vim"
   ]
  },
  {
   "cell_type": "code",
   "execution_count": 1,
   "metadata": {},
   "outputs": [],
   "source": [
    "!mkdir eggs"
   ]
  },
  {
   "cell_type": "code",
   "execution_count": 2,
   "metadata": {},
   "outputs": [
    {
     "name": "stdout",
     "output_type": "stream",
     "text": [
      "0911.ipynb              105306054_1008HW.ipynb  1203hw3.ipynb\r\n",
      "0918.ipynb              1112.ipynb              1218.ipynb\r\n",
      "0925.ipynb              1119.ipynb              README.md\r\n",
      "1002.ipynb              1119HW.ipynb            Untitled.ipynb\r\n",
      "1008hw.ipynb            1120上課.ipynb          Untitled1.ipynb\r\n",
      "1009.ipynb              1126.ipynb              \u001b[34meggs\u001b[m\u001b[m/\r\n",
      "1015hw.ipynb            1126_105306054.ipynb    pho.jpg\r\n",
      "1016.ipynb              1203hw01.ipynb          \u001b[34mpython\u001b[m\u001b[m/\r\n",
      "1029hw.ipynb            1203hw02.ipynb\r\n"
     ]
    }
   ],
   "source": [
    "# !代表下系統的指令\n",
    "%ls"
   ]
  },
  {
   "cell_type": "code",
   "execution_count": 3,
   "metadata": {},
   "outputs": [
    {
     "name": "stdout",
     "output_type": "stream",
     "text": [
      "/Users/ChingYunChuang/SENIOR_1/wed234python/eggs\n"
     ]
    }
   ],
   "source": [
    "%cd eggs"
   ]
  },
  {
   "cell_type": "code",
   "execution_count": 4,
   "metadata": {},
   "outputs": [],
   "source": [
    "from random import randint"
   ]
  },
  {
   "cell_type": "code",
   "execution_count": 5,
   "metadata": {},
   "outputs": [
    {
     "name": "stdout",
     "output_type": "stream",
     "text": [
      "6,66,14,72,13,57,17,14,66,91,44,5,67,95,22,85,1,66,31,94,25,10,86,96,19,63,35,42,99,94,57,39,34,60,51,91,54,61,28,6,93,85,36,74,88,48,45,58,11,100,36,58,26,57,36,53,46,22,21,60,7,34,85,86,88,63,11,17,17,76,13,63,73,34,46,21,71,99,81,41,44,20,50,8,6,47,65,84,65,100,45,34,76,22,56,11,16,67,95,7,"
     ]
    }
   ],
   "source": [
    "for i in range(100):\n",
    "    print(randint(1,100), end=',')"
   ]
  },
  {
   "cell_type": "code",
   "execution_count": 6,
   "metadata": {},
   "outputs": [],
   "source": [
    "import numpy as np"
   ]
  },
  {
   "cell_type": "code",
   "execution_count": 7,
   "metadata": {},
   "outputs": [
    {
     "name": "stdout",
     "output_type": "stream",
     "text": [
      "30, 65, 19, 75, 86, 18, 80, 3, 67, 44, 99, 99, 73, 30, 38, 6, 13, 74, 27, 45, 89, 90, 19, 95, 47, 70, 26, 25, 42, 93, 35, 39, 11, 55, 33, 47, 79, 23, 88, 66, 24, 95, 88, 69, 34, 46, 84, 49, 32, 30, 61, 4, 57, 95, 13, 57, 87, 58, 53, 91, 51, 93, 59, 65, 57, 81, 23, 44, 23, 58, 62, 16, 69, 94, 57, 82, 13, 40, 99, 59, 58, 41, 73, 98, 49, 28, 47, 88, 10, 25, 34, 27, 13, 50, 40, 77, 33, 72, 37, 40, "
     ]
    }
   ],
   "source": [
    "for i in range(100):\n",
    "    print(np.random.randint(1,100),end =', ')"
   ]
  },
  {
   "cell_type": "code",
   "execution_count": 8,
   "metadata": {},
   "outputs": [
    {
     "name": "stdout",
     "output_type": "stream",
     "text": [
      "你今天的幸運數字是 26!\n"
     ]
    }
   ],
   "source": [
    "n = randint(1,100)\n",
    "print(f\"你今天的幸運數字是 {n}!\")"
   ]
  },
  {
   "cell_type": "code",
   "execution_count": 9,
   "metadata": {},
   "outputs": [
    {
     "name": "stdout",
     "output_type": "stream",
     "text": [
      "The following commands were written to file `spam.py`:\n",
      "from random import randint\n",
      "n = randint(1,100)\n",
      "print(f\"你今天的幸運數字是 {n}!\")\n"
     ]
    }
   ],
   "source": [
    "%save spam.py 4 8"
   ]
  },
  {
   "cell_type": "code",
   "execution_count": null,
   "metadata": {},
   "outputs": [],
   "source": []
  }
 ],
 "metadata": {
  "kernelspec": {
   "display_name": "Python 3",
   "language": "python",
   "name": "python3"
  },
  "language_info": {
   "codemirror_mode": {
    "name": "ipython",
    "version": 3
   },
   "file_extension": ".py",
   "mimetype": "text/x-python",
   "name": "python",
   "nbconvert_exporter": "python",
   "pygments_lexer": "ipython3",
   "version": "3.6.4"
  }
 },
 "nbformat": 4,
 "nbformat_minor": 2
}
