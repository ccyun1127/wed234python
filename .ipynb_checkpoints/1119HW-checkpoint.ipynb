{
 "cells": [
  {
   "cell_type": "code",
   "execution_count": 4,
   "metadata": {},
   "outputs": [
    {
     "name": "stdout",
     "output_type": "stream",
     "text": [
      "請設定本局的最小值:1\n",
      "請設定本局的最大值:100\n",
      "數字猜謎遊戲！\n",
      "請輸入你猜的數字：500\n",
      "你猜的數大了...\n",
      "請輸入你猜的數字：1\n",
      "你猜的數小了...\n",
      "請輸入你猜的數字：2\n",
      "你猜的數小了...\n",
      "請輸入你猜的數字：3\n",
      "你猜的數小了...\n",
      "請輸入你猜的數字：4\n",
      "你猜的數小了...\n",
      "請輸入你猜的數字：60\n",
      "你猜的數小了...\n",
      "請輸入你猜的數字：200\n",
      "你猜的數大了...\n",
      "請輸入你猜的數字：100\n",
      "你猜的數大了...\n",
      "請輸入你猜的數字：70\n",
      "你猜的數小了...\n",
      "請輸入你猜的數字：80\n",
      "你猜的數大了...\n",
      "請輸入你猜的數字：75\n",
      "你猜的數大了...\n",
      "請輸入你猜的數字：73\n",
      "你猜的數大了...\n",
      "請輸入你猜的數字：72\n",
      "你猜的數大了...\n",
      "請輸入你猜的數字：71\n",
      "恭喜，你猜對了！\n",
      "你總共猜了14次"
     ]
    }
   ],
   "source": [
    "#hw1\n",
    "import random\n",
    "rang1 = int(input(\"請設定本局的最小值:\"))\n",
    "rang2 = int(input(\"請設定本局的最大值:\"))\n",
    "num = random.randint(rang1,rang2)\n",
    "guess = \"guess\"\n",
    "print(\"數字猜謎遊戲！\")\n",
    "i = 0\n",
    "while guess != num:\n",
    "    i += 1\n",
    "    guess = int(input(\"請輸入你猜的數字：\"))\n",
    "\n",
    "    if guess == num:\n",
    "        print(\"恭喜，你猜對了！\")\n",
    "    elif guess < num:\n",
    "        print(\"你猜的數小了...\")\n",
    "    else:\n",
    "        print(\"你猜的數大了...\")\n",
    "\n",
    "print(\"你總共猜了%d\" %i + \"次\",end = '')\n"
   ]
  },
  {
   "cell_type": "code",
   "execution_count": 10,
   "metadata": {},
   "outputs": [
    {
     "name": "stdout",
     "output_type": "stream",
     "text": [
      "4\n",
      "6\n",
      "3\n",
      "6\n",
      "5\n",
      "5\n",
      "2\n",
      "5\n",
      "6\n",
      "3\n",
      "\n",
      "[0, 1, 2, 1, 3, 3]\n"
     ]
    }
   ],
   "source": [
    "#hw2\n",
    "import random\n",
    "def roll_dice():\n",
    "\n",
    "    roll = random.randint(1, 6)\n",
    "    return roll\n",
    "\n",
    "def main():\n",
    "\n",
    "    total_times = 10\n",
    "    # 初始化點數所擲次數列表[0, 0, 0, 0, 0, 0]\n",
    "    result_list = [0] * 6\n",
    "\n",
    "    for i in range(total_times):\n",
    "        roll = roll_dice()\n",
    "        print(roll)\n",
    "        # 判斷所擲點數，並把其次數加1\n",
    "        for j in range(1, 7):\n",
    "            if j == roll:\n",
    "                result_list[j - 1] += 1\n",
    "    print()\n",
    "    print(result_list)\n",
    "\n",
    "\n",
    "if __name__ == '__main__':\n",
    "    main()"
   ]
  },
  {
   "cell_type": "code",
   "execution_count": null,
   "metadata": {},
   "outputs": [],
   "source": []
  }
 ],
 "metadata": {
  "kernelspec": {
   "display_name": "Python 3",
   "language": "python",
   "name": "python3"
  },
  "language_info": {
   "codemirror_mode": {
    "name": "ipython",
    "version": 3
   },
   "file_extension": ".py",
   "mimetype": "text/x-python",
   "name": "python",
   "nbconvert_exporter": "python",
   "pygments_lexer": "ipython3",
   "version": "3.6.4"
  }
 },
 "nbformat": 4,
 "nbformat_minor": 2
}
