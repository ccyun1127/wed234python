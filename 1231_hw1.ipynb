{
 "cells": [
  {
   "cell_type": "code",
   "execution_count": 12,
   "metadata": {},
   "outputs": [
    {
     "name": "stdout",
     "output_type": "stream",
     "text": [
      "Trying to Download:  https://www.youtube.com/watch?v=fkyw-hMCNP0\n",
      "[youtube] fkyw-hMCNP0: Downloading webpage\n",
      "[youtube] fkyw-hMCNP0: Downloading video info webpage\n",
      "Downloaded :  HowFun / 跳舞Battle ft. 呱吉 \n",
      "\n",
      "HowFun / 跳舞Battle ft. 呱吉 \n",
      " 好激烈的Dance Battle\n",
      "\n",
      "\n",
      "感謝\n",
      "呱吉、諾基、鴻志、大黑、麻希、上班不要看\n"
     ]
    }
   ],
   "source": [
    "import youtube_dl\n",
    "\n",
    "#this code download videos with thumbnail image\n",
    "#tries to download in best quality\n",
    "#set download_video variable to False if you only want video info\n",
    "\n",
    "def download_video_with_info(yt_url, download_folder, download_video = True):\n",
    "  #output template\n",
    "  outtmpl = download_folder + '\\\\' + '%(title)s.%(ext)s'\n",
    "\n",
    "  ydl_opts = {\n",
    "      'format': 'best',\n",
    "      'outtmpl': outtmpl,\n",
    "      'writethumbnail' : True,\n",
    "      'embedthumbnail' : True\n",
    "  }\n",
    "\n",
    "  ydl = youtube_dl.YoutubeDL(ydl_opts)\n",
    "\n",
    "  print(\"Trying to Download: \", yt_url)\n",
    " \n",
    "  try:\n",
    "    info = ydl.extract_info(yt_url, download = download_video)\n",
    "    \n",
    "    print(\"Downloaded : \", info['title'], \"\\n\")\n",
    "    \n",
    "  except Exception as e:\n",
    "    print('Error in Download : ', str(e), \"\\n\")\n",
    "    return False\n",
    "    \n",
    "  return info\n",
    "\n",
    "\n",
    "\n",
    "if __name__ == \"__main__\":\n",
    "  download_folder = r'/Users/ChingYunChuang/SENIOR_1/wed234python/final'\n",
    "  yt_url = \"https://www.youtube.com/watch?v=fkyw-hMCNP0\"\n",
    "  \n",
    "  info = download_video_with_info(yt_url = yt_url,\n",
    "                        download_folder = download_folder,\n",
    "                        download_video = False)\n",
    "  \n",
    "\n",
    "  if info:\n",
    "    print(info[\"title\"], \"\\n\", info[\"description\"])"
   ]
  },
  {
   "cell_type": "code",
   "execution_count": null,
   "metadata": {},
   "outputs": [],
   "source": []
  }
 ],
 "metadata": {
  "kernelspec": {
   "display_name": "Python 3",
   "language": "python",
   "name": "python3"
  },
  "language_info": {
   "codemirror_mode": {
    "name": "ipython",
    "version": 3
   },
   "file_extension": ".py",
   "mimetype": "text/x-python",
   "name": "python",
   "nbconvert_exporter": "python",
   "pygments_lexer": "ipython3",
   "version": "3.6.4"
  }
 },
 "nbformat": 4,
 "nbformat_minor": 2
}
