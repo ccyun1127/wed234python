{
 "cells": [
  {
   "cell_type": "code",
   "execution_count": 1,
   "metadata": {},
   "outputs": [
    {
     "name": "stdout",
     "output_type": "stream",
     "text": [
      "輸入期中考成績:80\n",
      "輸入期中考比例(小數):0.3\n",
      "輸入小考成績(q離開):90\n",
      "輸入小考比例(小數):0.1\n",
      "輸入小考成績(q離開):85\n",
      "輸入小考比例(小數):0.1\n",
      "輸入小考成績(q離開):q\n",
      "期末考至少要考37.0分\n"
     ]
    }
   ],
   "source": [
    "total=0\n",
    "rate=0\n",
    "a=input(\"輸入期中考成績:\")\n",
    "b=input(\"輸入期中考比例(小數):\")\n",
    "total+=float(a)*float(b)\n",
    "rate+=float(b)\n",
    "while(True):\n",
    "    a=input(\"輸入小考成績(q離開):\")\n",
    "    if a=='q':\n",
    "        break\n",
    "    else:\n",
    "        b=input(\"輸入小考比例(小數):\")\n",
    "        total+=float(a)*float(b)\n",
    "        rate+=float(b)\n",
    "score=round((60-total)/(1-rate),1)\n",
    "print(\"期末考至少要考\"+str(score)+\"分\")"
   ]
  },
  {
   "cell_type": "code",
   "execution_count": 2,
   "metadata": {},
   "outputs": [
    {
     "name": "stdout",
     "output_type": "stream",
     "text": [
      "請輸入幾月:10\n",
      "請輸入幾號:1\n",
      "請輸入西元年份的最末兩位數ex:2019就輸入19:19\n",
      "星期2\n"
     ]
    }
   ],
   "source": [
    "import math\n",
    "\n",
    "\n",
    "a=input(\"請輸入幾月:\")\n",
    "b=input(\"請輸入幾號:\")\n",
    "c=input(\"請輸入西元年份的最末兩位數ex:2019就輸入19:\")\n",
    "m=int(a)\n",
    "d=int(b)\n",
    "y=int(c)\n",
    "if(m==1 or m==2):\n",
    "    m+=12 \n",
    "    y=18  \n",
    "w=(y+int(y/4)+int(26*(m+1)/10)+d-36)%7  \n",
    "message = \"星期\" + str(w)\n",
    "\n",
    "print(message)"
   ]
  },
  {
   "cell_type": "code",
   "execution_count": 8,
   "metadata": {},
   "outputs": [
    {
     "name": "stdout",
     "output_type": "stream",
     "text": [
      "請輸入西元年份2019\n",
      "豬年\n",
      "請輸入西元年份2018\n",
      "狗年\n",
      "請輸入西元年份2017\n",
      "雞年\n",
      "請輸入西元年份停止\n"
     ]
    }
   ],
   "source": [
    "while input != \"停止\":\n",
    "    y=input(\"請輸入西元年份\")\n",
    "    if y == \"停止\":\n",
    "        break\n",
    "    elif (int(y)-3)%12==0:\n",
    "        print(\"豬年\")\n",
    "    elif(int(y)-3)%12==1:\n",
    "        print(\"鼠年\")\n",
    "    elif(int(y)-3)%12==2:\n",
    "        print(\"牛年\")\n",
    "    elif(int(y)-3)%12==3:\n",
    "        print(\"虎年\")\n",
    "    elif(int(y)-3)%12==4:\n",
    "        print(\"兔年\")\n",
    "    elif (int(y)-3)%12==5:\n",
    "        print(\"龍年\")\n",
    "    elif(int(y)-3)%12==6:\n",
    "        print(\"蛇年\")\n",
    "    elif(int(y)-3)%12==7:\n",
    "        print(\"馬年\")\n",
    "    elif(int(y)-3)%12==8:\n",
    "        print(\"羊年\")\n",
    "    elif (int(y)-3)%12==9:\n",
    "        print(\"猴年\")\n",
    "    elif (int(y)-3)%12==10:\n",
    "        print(\"雞年\")\n",
    "    elif (int(y)-3)%12==11:\n",
    "        print(\"狗年\")\n"
   ]
  },
  {
   "cell_type": "code",
   "execution_count": null,
   "metadata": {},
   "outputs": [],
   "source": []
  }
 ],
 "metadata": {
  "kernelspec": {
   "display_name": "Python 3",
   "language": "python",
   "name": "python3"
  },
  "language_info": {
   "codemirror_mode": {
    "name": "ipython",
    "version": 3
   },
   "file_extension": ".py",
   "mimetype": "text/x-python",
   "name": "python",
   "nbconvert_exporter": "python",
   "pygments_lexer": "ipython3",
   "version": "3.6.4"
  }
 },
 "nbformat": 4,
 "nbformat_minor": 2
}
