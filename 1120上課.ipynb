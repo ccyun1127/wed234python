{
 "cells": [
  {
   "cell_type": "code",
   "execution_count": 3,
   "metadata": {},
   "outputs": [],
   "source": [
    "%matplotlib inline\n",
    "import numpy as np\n",
    "import matplotlib.pyplot as plt\n",
    "import pandas as pd"
   ]
  },
  {
   "cell_type": "code",
   "execution_count": 12,
   "metadata": {},
   "outputs": [],
   "source": [
    "#模擬版資料做SVM\n",
    "x = np.array([[6,6],[10,8],[3,7],[8,7]])"
   ]
  },
  {
   "cell_type": "code",
   "execution_count": 13,
   "metadata": {},
   "outputs": [
    {
     "data": {
      "text/plain": [
       "array([ 6, 10,  3,  8])"
      ]
     },
     "execution_count": 13,
     "metadata": {},
     "output_type": "execute_result"
    }
   ],
   "source": [
    "x [:, 0]"
   ]
  },
  {
   "cell_type": "code",
   "execution_count": 18,
   "metadata": {},
   "outputs": [
    {
     "data": {
      "text/plain": [
       "<matplotlib.collections.PathCollection at 0x111c41940>"
      ]
     },
     "execution_count": 18,
     "metadata": {},
     "output_type": "execute_result"
    },
    {
     "data": {
      "image/png": "[encoded data removed]",
      "text/plain": [
       "<Figure size 432x288 with 1 Axes>"
      ]
     },
     "metadata": {},
     "output_type": "display_data"
    }
   ],
   "source": [
    "plt.scatter(x[:,0],x[:,1],cmap='Paired')"
   ]
  },
  {
   "cell_type": "code",
   "execution_count": 15,
   "metadata": {},
   "outputs": [],
   "source": [
    "y = np.array([1,2,1,2])"
   ]
  },
  {
   "cell_type": "code",
   "execution_count": 21,
   "metadata": {},
   "outputs": [
    {
     "data": {
      "text/plain": [
       "<matplotlib.collections.PathCollection at 0x112422cf8>"
      ]
     },
     "execution_count": 21,
     "metadata": {},
     "output_type": "execute_result"
    },
    {
     "data": {
      "image/png": "[encoded data removed]",
      "text/plain": [
       "<Figure size 432x288 with 1 Axes>"
      ]
     },
     "metadata": {},
     "output_type": "display_data"
    }
   ],
   "source": [
    "plt.scatter(x[:,0],x[:,1],c=y, cmap='Paired',s=150) "
   ]
  },
  {
   "cell_type": "code",
   "execution_count": 22,
   "metadata": {},
   "outputs": [],
   "source": [
    "#STEP1打開數據學習機\n",
    "from sklearn.svm import SVC"
   ]
  },
  {
   "cell_type": "code",
   "execution_count": 23,
   "metadata": {},
   "outputs": [],
   "source": [
    "clf = SVC()"
   ]
  },
  {
   "cell_type": "code",
   "execution_count": 24,
   "metadata": {},
   "outputs": [
    {
     "name": "stderr",
     "output_type": "stream",
     "text": [
      "/Library/Frameworks/Python.framework/Versions/3.6/lib/python3.6/site-packages/sklearn/svm/base.py:193: FutureWarning: The default value of gamma will change from 'auto' to 'scale' in version 0.22 to account better for unscaled features. Set gamma explicitly to 'auto' or 'scale' to avoid this warning.\n",
      "  \"avoid this warning.\", FutureWarning)\n"
     ]
    },
    {
     "data": {
      "text/plain": [
       "SVC(C=1.0, cache_size=200, class_weight=None, coef0=0.0,\n",
       "    decision_function_shape='ovr', degree=3, gamma='auto_deprecated',\n",
       "    kernel='rbf', max_iter=-1, probability=False, random_state=None,\n",
       "    shrinking=True, tol=0.001, verbose=False)"
      ]
     },
     "execution_count": 24,
     "metadata": {},
     "output_type": "execute_result"
    }
   ],
   "source": [
    "#STEP2 學習\n",
    "clf.fit(x,y)"
   ]
  },
  {
   "cell_type": "code",
   "execution_count": 25,
   "metadata": {},
   "outputs": [],
   "source": [
    "#step3預測\n",
    "y_predict = clf.predict(x)"
   ]
  },
  {
   "cell_type": "code",
   "execution_count": 26,
   "metadata": {},
   "outputs": [
    {
     "data": {
      "text/plain": [
       "array([1, 2, 1, 2])"
      ]
     },
     "execution_count": 26,
     "metadata": {},
     "output_type": "execute_result"
    }
   ],
   "source": [
    "y_predict"
   ]
  },
  {
   "cell_type": "code",
   "execution_count": 27,
   "metadata": {},
   "outputs": [
    {
     "data": {
      "text/plain": [
       "array([1, 2, 1, 2])"
      ]
     },
     "execution_count": 27,
     "metadata": {},
     "output_type": "execute_result"
    }
   ],
   "source": [
    "y"
   ]
  },
  {
   "cell_type": "code",
   "execution_count": 30,
   "metadata": {},
   "outputs": [],
   "source": [
    "xr = np.random.rand(100)*7 + 3 \n",
    "yr = np.random.rand(100)*2 + 6 "
   ]
  },
  {
   "cell_type": "code",
   "execution_count": 33,
   "metadata": {},
   "outputs": [
    {
     "data": {
      "text/plain": [
       "<matplotlib.collections.PathCollection at 0x1155cc898>"
      ]
     },
     "execution_count": 33,
     "metadata": {},
     "output_type": "execute_result"
    },
    {
     "data": {
      "image/png": "[encoded data removed]",
      "text/plain": [
       "<Figure size 432x288 with 1 Axes>"
      ]
     },
     "metadata": {},
     "output_type": "display_data"
    }
   ],
   "source": [
    "plt.scatter(xr,yr)\n",
    "plt.scatter(x[:,0],x[:,1],c=y, cmap='Paired',s=150) "
   ]
  },
  {
   "cell_type": "code",
   "execution_count": 35,
   "metadata": {},
   "outputs": [
    {
     "name": "stdout",
     "output_type": "stream",
     "text": [
      "X [3.81508501 5.90362294 5.81375002 9.4506956  3.42723581]\n",
      "Y [7.90957593 7.27121666 6.35278046 6.22376107 6.087188  ]\n"
     ]
    }
   ],
   "source": [
    "print('X',xr[:5]) \n",
    "print('Y',yr[:5])"
   ]
  },
  {
   "cell_type": "code",
   "execution_count": 36,
   "metadata": {},
   "outputs": [
    {
     "data": {
      "text/plain": [
       "array([[3.81508501, 7.90957593],\n",
       "       [5.90362294, 7.27121666],\n",
       "       [5.81375002, 6.35278046],\n",
       "       [9.4506956 , 6.22376107],\n",
       "       [3.42723581, 6.087188  ],\n",
       "       [5.25367862, 7.08802581],\n",
       "       [7.66647998, 7.45193195],\n",
       "       [3.82414109, 6.38030311],\n",
       "       [7.54284531, 6.33260227],\n",
       "       [9.46542725, 7.85673117],\n",
       "       [4.7192871 , 6.78463952],\n",
       "       [3.73347679, 6.47317448],\n",
       "       [8.68311017, 6.75838181],\n",
       "       [5.93069152, 7.23475789],\n",
       "       [3.36595229, 7.84567217],\n",
       "       [9.36721877, 7.23403287],\n",
       "       [4.65639002, 6.10086881],\n",
       "       [3.82291559, 6.87296581],\n",
       "       [7.75627665, 7.46434744],\n",
       "       [8.34817646, 6.50861247],\n",
       "       [8.75153592, 7.86457378],\n",
       "       [5.62240392, 7.76390963],\n",
       "       [5.90315623, 7.40752103],\n",
       "       [3.87754316, 6.7516211 ],\n",
       "       [7.52527889, 7.33008398],\n",
       "       [6.32323107, 6.62964805],\n",
       "       [7.45696867, 6.93610263],\n",
       "       [7.8750533 , 7.5959    ],\n",
       "       [6.94046765, 7.62130835],\n",
       "       [4.91138574, 6.24361765],\n",
       "       [9.90092905, 6.72800538],\n",
       "       [3.06948876, 6.15309336],\n",
       "       [8.41216333, 6.92074416],\n",
       "       [4.8319003 , 7.34546285],\n",
       "       [6.25436429, 6.97418962],\n",
       "       [7.90644899, 7.62010628],\n",
       "       [5.09155002, 7.83145281],\n",
       "       [3.82743312, 7.16006742],\n",
       "       [4.52662323, 6.29469878],\n",
       "       [6.70942173, 6.7755426 ],\n",
       "       [9.2687065 , 7.93189156],\n",
       "       [7.52753127, 6.90088551],\n",
       "       [5.97451033, 6.01246368],\n",
       "       [8.20441035, 6.78634152],\n",
       "       [7.88956486, 7.56559078],\n",
       "       [3.2345827 , 6.50979829],\n",
       "       [5.05586334, 6.42292884],\n",
       "       [3.09015967, 6.19738705],\n",
       "       [7.43120357, 6.9667011 ],\n",
       "       [4.12828468, 7.72329853],\n",
       "       [6.0265005 , 7.65313516],\n",
       "       [8.77171366, 7.64316055],\n",
       "       [9.78349302, 7.82225017],\n",
       "       [6.73991867, 6.43442584],\n",
       "       [8.07497028, 7.90326957],\n",
       "       [8.64231557, 7.60906962],\n",
       "       [8.22221489, 6.48213126],\n",
       "       [5.73088969, 7.34758358],\n",
       "       [9.38641018, 7.5260487 ],\n",
       "       [9.25809809, 7.65807922],\n",
       "       [3.12782692, 6.3911988 ],\n",
       "       [8.32602523, 6.99062059],\n",
       "       [6.00558694, 7.11338837],\n",
       "       [6.71893122, 7.64841947],\n",
       "       [4.15057728, 6.4025018 ],\n",
       "       [8.53226566, 7.14831937],\n",
       "       [8.19987349, 7.87225719],\n",
       "       [3.95975029, 7.5351909 ],\n",
       "       [4.77284124, 7.90056914],\n",
       "       [4.21343166, 6.78690858],\n",
       "       [9.89355388, 6.64176684],\n",
       "       [3.69336554, 7.31507715],\n",
       "       [4.95430759, 6.91211273],\n",
       "       [8.99688847, 6.10924276],\n",
       "       [4.59334529, 6.21785502],\n",
       "       [5.17644936, 7.91933403],\n",
       "       [6.39020119, 6.83202309],\n",
       "       [3.99878969, 6.67989293],\n",
       "       [7.06035962, 6.26074068],\n",
       "       [9.38835902, 7.4082156 ],\n",
       "       [7.36829629, 7.33157981],\n",
       "       [5.58034842, 7.98529369],\n",
       "       [8.78924677, 6.72238653],\n",
       "       [7.13274705, 7.49256242],\n",
       "       [7.69541901, 7.67792432],\n",
       "       [7.24525554, 7.78365513],\n",
       "       [8.21769534, 6.29797924],\n",
       "       [8.30325496, 6.82247182],\n",
       "       [4.15982416, 6.19662033],\n",
       "       [8.04926004, 7.67234864],\n",
       "       [6.22334112, 6.18283093],\n",
       "       [6.92195027, 7.43194357],\n",
       "       [3.81282611, 7.12920492],\n",
       "       [9.04287309, 6.27513981],\n",
       "       [9.45199708, 7.33947186],\n",
       "       [8.50794225, 7.63555249],\n",
       "       [4.97742815, 6.29745398],\n",
       "       [6.44761187, 6.87676687],\n",
       "       [3.21656572, 6.29093637],\n",
       "       [6.49337492, 7.67645559]])"
      ]
     },
     "execution_count": 36,
     "metadata": {},
     "output_type": "execute_result"
    }
   ],
   "source": [
    "np.c_[xr,yr]"
   ]
  },
  {
   "cell_type": "code",
   "execution_count": 37,
   "metadata": {},
   "outputs": [],
   "source": [
    "X = np.c_[xr, yr]\n",
    "Y = clf.predict(X)"
   ]
  },
  {
   "cell_type": "code",
   "execution_count": 39,
   "metadata": {},
   "outputs": [
    {
     "data": {
      "text/plain": [
       "<matplotlib.collections.PathCollection at 0x1158b5f98>"
      ]
     },
     "execution_count": 39,
     "metadata": {},
     "output_type": "execute_result"
    },
    {
     "data": {
      "image/png": "[encoded data removed]",
      "text/plain": [
       "<Figure size 432x288 with 1 Axes>"
      ]
     },
     "metadata": {},
     "output_type": "display_data"
    }
   ],
   "source": [
    "plt.scatter(x[:,0],x[:,1],c=y, cmap='Paired',s=150) \n",
    "plt.scatter(X[:,0],X[:,1],c=Y, cmap='Paired') "
   ]
  },
  {
   "cell_type": "code",
   "execution_count": null,
   "metadata": {},
   "outputs": [],
   "source": [
    "#結果呈現\n",
    "x_list = np.linspace(3,10,50)"
   ]
  }
 ],
 "metadata": {
  "kernelspec": {
   "display_name": "Python 3",
   "language": "python",
   "name": "python3"
  },
  "language_info": {
   "codemirror_mode": {
    "name": "ipython",
    "version": 3
   },
   "file_extension": ".py",
   "mimetype": "text/x-python",
   "name": "python",
   "nbconvert_exporter": "python",
   "pygments_lexer": "ipython3",
   "version": "3.6.4"
  }
 },
 "nbformat": 4,
 "nbformat_minor": 2
}
