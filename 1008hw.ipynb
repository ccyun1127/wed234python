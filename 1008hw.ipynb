{
 "cells": [
  {
   "cell_type": "code",
   "execution_count": 1,
   "metadata": {},
   "outputs": [
    {
     "name": "stdout",
     "output_type": "stream",
     "text": [
      "歡迎來到簡易版21點，你的第一個數字是: 13 還要再一個數嗎? 請回答要或不要:要\n",
      "”你的數字是: 9，然後你現在有: 22點\n",
      "你爆了，你總共有: 22點，莊家有: 5 點，你爆了!掰掰\n"
     ]
    }
   ],
   "source": [
    "##小程式1\n",
    "\n",
    "import random\n",
    "player=[]\n",
    "ai=[]\n",
    "a=random.randint(1,13)\n",
    "c=random.randint(1,13)\n",
    "x=input('歡迎來到簡易版21點，你的第一個數字是: '+ str(a)+' 還要再一個數嗎? 請回答要或不要:')\n",
    "player.append(a)\n",
    "ai.append(c)\n",
    "while True:\n",
    "    if x=='要':\n",
    "        b=random.randint(1,13)\n",
    "        d=random.randint(1,13)\n",
    "        player.append(b)\n",
    "        ai.append(d)\n",
    "        print('”你的數字是: '+str(b)+'，然後你現在有: '+str(sum(player))+ '點')\n",
    "        if int(sum(player)) > 21 and int(sum(ai)) < 21:\n",
    "            print('你爆了，你總共有: '+str(sum(player))+'點，莊家有: '+str(sum(ai))+' 點，你爆了!掰掰')\n",
    "            break\n",
    "        elif int(sum(player)) > 21 and int(sum(ai)) > 21:\n",
    "            print('你爆了，你總共有: '+str(sum(player))+'點，莊家有: '+str(sum(ai))+' 點，你們兩個都爆了，來比大小吧!”')\n",
    "            if int(sum(player))> int(sum(ai)):\n",
    "                print('莊家贏了，掰掰')\n",
    "                break\n",
    "            elif int(sum(player))== int(sum(ai)):\n",
    "                print('平手!')\n",
    "                break\n",
    "            else:\n",
    "                print('你贏了，掰掰')\n",
    "                break\n",
    "        elif int(sum(player)) < 21 and int(sum(ai)) < 21:\n",
    "            print('你總共有: '+str(sum(player))+'點，莊家總共有: '+str(sum(ai))+'點')\n",
    "            if int(sum(player))> int(sum(ai)):\n",
    "                print('你贏了，掰掰')\n",
    "                break\n",
    "            elif int(sum(player))== int(sum(ai)):\n",
    "                print('平手!')\n",
    "                break\n",
    "            else:\n",
    "                print('莊家贏了，掰掰')\n",
    "                break\n",
    "        elif int(sum(player)) < 21 and int(sum(ai)) > 21:\n",
    "             print('你總共有: '+str(sum(player))+'點，莊家總共有: '+str(sum(ai))+'點莊家爆了，所以你贏了!            恭喜你')\n",
    "    elif x=='不要':\n",
    "        print('你總共有: '+str(a)+' 點，莊家總共有: '+str(c)+' 點')\n",
    "        if int(sum(player)) > 21 and int(sum(ai)) < 21:\n",
    "            print('你爆了，你總共有: '+str(sum(player))+'點，莊家有: '+str(sum(ai))+' 點，你爆了!掰掰')\n",
    "            break\n",
    "        elif int(sum(player)) > 21 and int(sum(ai)) > 21:\n",
    "            print('你爆了，你總共有: '+str(sum(player))+'點，莊家有: '+str(sum(ai))+' 點，你們兩個都爆了，來比大小吧!”')\n",
    "            if int(sum(player))> int(sum(ai)):\n",
    "                print('莊家贏了，掰掰')\n",
    "                break\n",
    "            elif int(sum(player))== int(sum(ai)):\n",
    "                print('平手!')\n",
    "                break\n",
    "            else:\n",
    "                print('你贏了，掰掰')\n",
    "                break\n",
    "        elif int(sum(player)) < 21 and int(sum(ai)) < 21:\n",
    "            print('你總共有: '+str(sum(player))+'點，莊家總共有: '+str(sum(ai))+'點')\n",
    "            if int(sum(player))> int(sum(ai)):\n",
    "                print('你贏了，掰掰')\n",
    "                break\n",
    "            elif int(sum(player))== int(sum(ai)):\n",
    "                print('平手!')\n",
    "                break\n",
    "            else:\n",
    "                print('莊家贏了，掰掰')\n",
    "                break\n",
    "        elif int(sum(player)) < 21 and int(sum(ai)) > 21:\n",
    "             print('你總共有: '+str(sum(player))+'點，莊家總共有: '+str(sum(ai))+'點莊家爆了，所以你贏了!            恭喜你')\n",
    "        break\n",
    "    else: \n",
    "        print('沒有這個選項。')\n",
    "    break \n",
    "        \n",
    "\n"
   ]
  },
  {
   "cell_type": "code",
   "execution_count": null,
   "metadata": {},
   "outputs": [],
   "source": []
  }
 ],
 "metadata": {
  "kernelspec": {
   "display_name": "Python 3",
   "language": "python",
   "name": "python3"
  },
  "language_info": {
   "codemirror_mode": {
    "name": "ipython",
    "version": 3
   },
   "file_extension": ".py",
   "mimetype": "text/x-python",
   "name": "python",
   "nbconvert_exporter": "python",
   "pygments_lexer": "ipython3",
   "version": "3.6.4"
  }
 },
 "nbformat": 4,
 "nbformat_minor": 2
}
